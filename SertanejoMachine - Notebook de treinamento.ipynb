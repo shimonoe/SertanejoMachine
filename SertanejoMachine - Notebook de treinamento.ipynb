{
 "cells": [
  {
   "cell_type": "markdown",
   "metadata": {},
   "source": [
    "<h2>Agente criador de música sertaneja - SertanejoMachine</h2>"
   ]
  },
  {
   "cell_type": "markdown",
   "metadata": {},
   "source": [
    "Este notebook exemplifica a criação de um agente inteligente que gera letras de músicas a partir de uma corpora. Neste caso, foi escolhido o gênero Sertanejo, por possuir uma diversidade de vocabulário mais simples. Isso facilita o processo de modelagem no sentido de que com poucos exemplos podemos criar uma rede neural que entenda a lógica sequencial das palavras de cada sentança."
   ]
  },
  {
   "cell_type": "markdown",
   "metadata": {},
   "source": [
    "<h3>Crawler de letras de músicas</h3>"
   ]
  },
  {
   "cell_type": "markdown",
   "metadata": {},
   "source": [
    "O site escolhido para obtenção dos dados foi o letras.mus.br, por organizar de maneira simplificada as músicas mais buscadas por gênero, em uma lista suficientemente grande"
   ]
  },
  {
   "cell_type": "code",
   "execution_count": 1,
   "metadata": {},
   "outputs": [
    {
     "name": "stderr",
     "output_type": "stream",
     "text": [
      "100%|██████████| 1000/1000 [00:03<00:00, 300.60it/s]\n"
     ]
    }
   ],
   "source": [
    "# -*- coding:utf-8 -*-\n",
    "import requests\n",
    "from multiprocessing import Pool\n",
    "from pyquery import PyQuery\n",
    "from tqdm import tqdm\n",
    "\n",
    "BASE_URL = \"https://www.letras.mus.br\"\n",
    "SERTANEJO_TOP = \"/mais-acessadas/sertanejo/\"\n",
    "\n",
    "# Captura a página onde estão listadas as músicas do top 1000\n",
    "def get_top1000_page():\n",
    "    retry = 3\n",
    "    response = None\n",
    "    while(retry):\n",
    "        try:\n",
    "            response = requests.get(BASE_URL + SERTANEJO_TOP)\n",
    "            if 200 <= response.status_code < 300:\n",
    "                break\n",
    "            else:\n",
    "                retry -= 1\n",
    "        except:\n",
    "            retry -= 1\n",
    "    return response\n",
    "\n",
    "# Faz o parsing na página das músicas do top 1000 e extrai todas as hrefs de letras\n",
    "def get_top1000_urls(response):\n",
    "    pq = PyQuery(response.text)\n",
    "    hrefs = [i.attr('href') for i in pq('ol.top-list_mus.cnt-list--col1-3 a').items()]\n",
    "    return hrefs\n",
    "\n",
    "# Captura a página da música e extrai as informações de título, interprete e letra\n",
    "def fetch_lyrics(url):\n",
    "    retry = 3\n",
    "    response = None\n",
    "    while(retry):\n",
    "        try:\n",
    "            response = requests.get(BASE_URL + url)\n",
    "            if 200 <= response.status_code < 300:\n",
    "                break\n",
    "            else:\n",
    "                retry -= 1\n",
    "        except:\n",
    "            retry -= 1\n",
    "            \n",
    "    pq = PyQuery(response.text)\n",
    "    title, artist = pq('div.cnt-head_title').text().split('\\n')\n",
    "    lyrics = pq('div.cnt-letra.p402_premium').text()\n",
    "    return (title, artist, lyrics)\n",
    "\n",
    "\n",
    "# Processamento paralelo utilizando um Pool de threads\n",
    "def mmap(function, iterable):\n",
    "    p = Pool()\n",
    "    result = list(tqdm(p.imap(function, iterable), total=len(iterable)))\n",
    "    p.close()\n",
    "    return result\n",
    "\n",
    "resp = get_top1000_page()\n",
    "hrefs = get_top1000_urls(resp)\n",
    "title_artist_lyrics = mmap(fetch_lyrics, hrefs)"
   ]
  },
  {
   "cell_type": "markdown",
   "metadata": {},
   "source": [
    "<h3>Processamento dos dados coletados</h3>"
   ]
  },
  {
   "cell_type": "markdown",
   "metadata": {},
   "source": [
    "Executa a rotina de transformação das tuplas em uma matriz de tokens"
   ]
  },
  {
   "cell_type": "code",
   "execution_count": 2,
   "metadata": {},
   "outputs": [
    {
     "data": {
      "text/html": [
       "<div>\n",
       "<style scoped>\n",
       "    .dataframe tbody tr th:only-of-type {\n",
       "        vertical-align: middle;\n",
       "    }\n",
       "\n",
       "    .dataframe tbody tr th {\n",
       "        vertical-align: top;\n",
       "    }\n",
       "\n",
       "    .dataframe thead th {\n",
       "        text-align: right;\n",
       "    }\n",
       "</style>\n",
       "<table border=\"1\" class=\"dataframe\">\n",
       "  <thead>\n",
       "    <tr style=\"text-align: right;\">\n",
       "      <th></th>\n",
       "      <th>title</th>\n",
       "      <th>artist</th>\n",
       "      <th>lyrics</th>\n",
       "    </tr>\n",
       "  </thead>\n",
       "  <tbody>\n",
       "    <tr>\n",
       "      <th>0</th>\n",
       "      <td>Notificação Preferida</td>\n",
       "      <td>Zé Neto e Cristiano</td>\n",
       "      <td>Já doeu\\nMas hoje não dói mais\\nTanto fiz\\nQue...</td>\n",
       "    </tr>\n",
       "    <tr>\n",
       "      <th>1</th>\n",
       "      <td>Bebida na Ferida</td>\n",
       "      <td>Zé Neto e Cristiano</td>\n",
       "      <td>Parecia um bom negócio\\nVocê se desfazer de mi...</td>\n",
       "    </tr>\n",
       "    <tr>\n",
       "      <th>2</th>\n",
       "      <td>Atrasadinha (part. Ferrugem)</td>\n",
       "      <td>Felipe Araújo</td>\n",
       "      <td>Botei a melhor roupa pra esconder os meus defe...</td>\n",
       "    </tr>\n",
       "    <tr>\n",
       "      <th>3</th>\n",
       "      <td>Safadômetro</td>\n",
       "      <td>Thiago Matheus</td>\n",
       "      <td>Sou um cara apaixonado\\nSou um homem prendado\\...</td>\n",
       "    </tr>\n",
       "    <tr>\n",
       "      <th>4</th>\n",
       "      <td>Vingança (part. MC Kekel)</td>\n",
       "      <td>Luan Santana</td>\n",
       "      <td>Não vou mais pensar em você\\nNa minha mente, c...</td>\n",
       "    </tr>\n",
       "  </tbody>\n",
       "</table>\n",
       "</div>"
      ],
      "text/plain": [
       "                          title               artist  \\\n",
       "0         Notificação Preferida  Zé Neto e Cristiano   \n",
       "1              Bebida na Ferida  Zé Neto e Cristiano   \n",
       "2  Atrasadinha (part. Ferrugem)        Felipe Araújo   \n",
       "3                   Safadômetro       Thiago Matheus   \n",
       "4     Vingança (part. MC Kekel)         Luan Santana   \n",
       "\n",
       "                                              lyrics  \n",
       "0  Já doeu\\nMas hoje não dói mais\\nTanto fiz\\nQue...  \n",
       "1  Parecia um bom negócio\\nVocê se desfazer de mi...  \n",
       "2  Botei a melhor roupa pra esconder os meus defe...  \n",
       "3  Sou um cara apaixonado\\nSou um homem prendado\\...  \n",
       "4  Não vou mais pensar em você\\nNa minha mente, c...  "
      ]
     },
     "execution_count": 2,
     "metadata": {},
     "output_type": "execute_result"
    }
   ],
   "source": [
    "# Transformação das tuplas em um Dataframe\n",
    "import pandas as pd\n",
    "songs = pd.DataFrame(title_artist_lyrics, columns=[\"title\", \"artist\", \"lyrics\"])\n",
    "songs.head()"
   ]
  },
  {
   "cell_type": "code",
   "execution_count": 4,
   "metadata": {},
   "outputs": [
    {
     "name": "stderr",
     "output_type": "stream",
     "text": [
      "Using TensorFlow backend.\n"
     ]
    },
    {
     "name": "stdout",
     "output_type": "stream",
     "text": [
      "Vocabulary Size: 8379\n",
      "Total Sequences: 190712\n",
      "Max Sequence Length: 3\n"
     ]
    }
   ],
   "source": [
    "import ftfy\n",
    "from keras.preprocessing.sequence import pad_sequences\n",
    "from keras.preprocessing.text import Tokenizer\n",
    "\n",
    "# Corrige problemas causados por codificação dos caracteres\n",
    "songs['lyrics'] = [ftfy.fix_text(l).lower() for l in songs.lyrics.values]\n",
    "\n",
    "# Concatena os textos para um único objeto\n",
    "corpora = \" \".join(songs.lyrics.values)\n",
    "\n",
    "# Criação dos tokens e do encoder a partir da corpora\n",
    "tokenizer = Tokenizer()\n",
    "tokenizer.fit_on_texts([corpora])\n",
    "encoded = tokenizer.texts_to_sequences([corpora])[0]\n",
    "\n",
    "# Tamanho do vocabulário\n",
    "vocab_size = len(tokenizer.word_index) + 1\n",
    "print('Vocabulary Size: %d' % vocab_size)\n",
    "\n",
    "# Codifica um bigrama para um unigrama \n",
    "sequences = list()\n",
    "for i in range(2, len(encoded)):\n",
    "    sequence = encoded[i-2:i+1]\n",
    "    sequences.append(sequence)\n",
    "print('Total Sequences: %d' % len(sequences))\n",
    "\n",
    "# Faz o padding das sequências\n",
    "max_length = max([len(seq) for seq in sequences])\n",
    "sequences = pad_sequences(sequences, maxlen=max_length, padding='pre')\n",
    "print('Max Sequence Length: %d' % max_length)"
   ]
  },
  {
   "cell_type": "markdown",
   "metadata": {},
   "source": [
    "<h3>Separação entradas e saídas do modelo</h3>"
   ]
  },
  {
   "cell_type": "code",
   "execution_count": 5,
   "metadata": {},
   "outputs": [],
   "source": [
    "import numpy as np\n",
    "from keras.utils import to_categorical\n",
    "\n",
    "# split em elementos de entrada e saída da rede neural\n",
    "sequences = np.array(sequences)\n",
    "X, y = sequences[:,:-1], sequences[:,-1]\n",
    "y = to_categorical(y, num_classes=vocab_size)"
   ]
  },
  {
   "cell_type": "markdown",
   "metadata": {},
   "source": [
    "<h3>RNN Model</h3>"
   ]
  },
  {
   "cell_type": "markdown",
   "metadata": {},
   "source": [
    "Baseado no exemplo do repositório da biblioteca Keras\n",
    "<br></br>\n",
    "https://github.com/keras-team/keras/blob/master/examples/lstm_text_generation.py"
   ]
  },
  {
   "cell_type": "code",
   "execution_count": 7,
   "metadata": {
    "scrolled": false
   },
   "outputs": [
    {
     "name": "stdout",
     "output_type": "stream",
     "text": [
      "_________________________________________________________________\n",
      "Layer (type)                 Output Shape              Param #   \n",
      "=================================================================\n",
      "embedding_2 (Embedding)      (None, 2, 10)             83790     \n",
      "_________________________________________________________________\n",
      "lstm_2 (LSTM)                (None, 50)                12200     \n",
      "_________________________________________________________________\n",
      "dense_2 (Dense)              (None, 8379)              427329    \n",
      "=================================================================\n",
      "Total params: 523,319\n",
      "Trainable params: 523,319\n",
      "Non-trainable params: 0\n",
      "_________________________________________________________________\n",
      "None\n",
      "Epoch 1/100\n",
      "190712/190712 [==============================] - 41s 213us/step - loss: 6.4750 - acc: 0.0374\n",
      "Epoch 2/100\n",
      "190712/190712 [==============================] - 40s 208us/step - loss: 5.9382 - acc: 0.0644\n",
      "Epoch 3/100\n",
      "190712/190712 [==============================] - 40s 210us/step - loss: 5.4929 - acc: 0.0954\n",
      "Epoch 4/100\n",
      "190712/190712 [==============================] - 40s 209us/step - loss: 5.2458 - acc: 0.1159\n",
      "Epoch 5/100\n",
      "190712/190712 [==============================] - 40s 208us/step - loss: 5.0594 - acc: 0.1313\n",
      "Epoch 6/100\n",
      "190712/190712 [==============================] - 40s 209us/step - loss: 4.9090 - acc: 0.1444\n",
      "Epoch 7/100\n",
      "190712/190712 [==============================] - 39s 207us/step - loss: 4.7836 - acc: 0.1552\n",
      "Epoch 8/100\n",
      "190712/190712 [==============================] - 40s 208us/step - loss: 4.6742 - acc: 0.1661\n",
      "Epoch 9/100\n",
      "190712/190712 [==============================] - 40s 209us/step - loss: 4.5784 - acc: 0.1765\n",
      "Epoch 10/100\n",
      "190712/190712 [==============================] - 40s 211us/step - loss: 4.4941 - acc: 0.1858\n",
      "Epoch 11/100\n",
      "190712/190712 [==============================] - 40s 210us/step - loss: 4.4184 - acc: 0.1941\n",
      "Epoch 12/100\n",
      "190712/190712 [==============================] - 40s 207us/step - loss: 4.3516 - acc: 0.2017\n",
      "Epoch 13/100\n",
      "190712/190712 [==============================] - 40s 208us/step - loss: 4.2920 - acc: 0.2102\n",
      "Epoch 14/100\n",
      "190712/190712 [==============================] - 40s 209us/step - loss: 4.2365 - acc: 0.2163\n",
      "Epoch 15/100\n",
      "190712/190712 [==============================] - 40s 209us/step - loss: 4.1879 - acc: 0.2235\n",
      "Epoch 16/100\n",
      "190712/190712 [==============================] - 40s 208us/step - loss: 4.1431 - acc: 0.2279\n",
      "Epoch 17/100\n",
      "190712/190712 [==============================] - 40s 208us/step - loss: 4.1006 - acc: 0.2336\n",
      "Epoch 18/100\n",
      "190712/190712 [==============================] - 40s 209us/step - loss: 4.0619 - acc: 0.2385\n",
      "Epoch 19/100\n",
      "190712/190712 [==============================] - 40s 210us/step - loss: 4.0262 - acc: 0.2445\n",
      "Epoch 20/100\n",
      "190712/190712 [==============================] - 40s 209us/step - loss: 3.9943 - acc: 0.2479\n",
      "Epoch 21/100\n",
      "190712/190712 [==============================] - 40s 208us/step - loss: 3.9639 - acc: 0.2512\n",
      "Epoch 22/100\n",
      "190712/190712 [==============================] - 40s 209us/step - loss: 3.9356 - acc: 0.2555\n",
      "Epoch 23/100\n",
      "190712/190712 [==============================] - 40s 209us/step - loss: 3.9091 - acc: 0.2588\n",
      "Epoch 24/100\n",
      "190712/190712 [==============================] - 40s 209us/step - loss: 3.8840 - acc: 0.2622\n",
      "Epoch 25/100\n",
      "190712/190712 [==============================] - 40s 210us/step - loss: 3.8608 - acc: 0.2644\n",
      "Epoch 26/100\n",
      "190712/190712 [==============================] - 40s 208us/step - loss: 3.8388 - acc: 0.2675\n",
      "Epoch 27/100\n",
      "190712/190712 [==============================] - 40s 208us/step - loss: 3.8186 - acc: 0.2700\n",
      "Epoch 28/100\n",
      "190712/190712 [==============================] - 40s 209us/step - loss: 3.7983 - acc: 0.2729\n",
      "Epoch 29/100\n",
      "190712/190712 [==============================] - 40s 209us/step - loss: 3.7802 - acc: 0.2752\n",
      "Epoch 30/100\n",
      "190712/190712 [==============================] - 40s 208us/step - loss: 3.7624 - acc: 0.2779\n",
      "Epoch 31/100\n",
      "190712/190712 [==============================] - 40s 208us/step - loss: 3.7455 - acc: 0.2804\n",
      "Epoch 32/100\n",
      "190712/190712 [==============================] - 40s 208us/step - loss: 3.7303 - acc: 0.2820\n",
      "Epoch 33/100\n",
      "190712/190712 [==============================] - 40s 208us/step - loss: 3.7156 - acc: 0.2838\n",
      "Epoch 34/100\n",
      "190712/190712 [==============================] - 40s 208us/step - loss: 3.7016 - acc: 0.2867\n",
      "Epoch 35/100\n",
      "190712/190712 [==============================] - 40s 209us/step - loss: 3.6882 - acc: 0.2885\n",
      "Epoch 36/100\n",
      "190712/190712 [==============================] - 40s 209us/step - loss: 3.6762 - acc: 0.2893\n",
      "Epoch 37/100\n",
      "190712/190712 [==============================] - 40s 209us/step - loss: 3.6625 - acc: 0.2919\n",
      "Epoch 38/100\n",
      "190712/190712 [==============================] - 40s 208us/step - loss: 3.6511 - acc: 0.2923\n",
      "Epoch 39/100\n",
      "190712/190712 [==============================] - 40s 208us/step - loss: 3.6397 - acc: 0.2948\n",
      "Epoch 40/100\n",
      "190712/190712 [==============================] - 40s 210us/step - loss: 3.6294 - acc: 0.2958\n",
      "Epoch 41/100\n",
      "190712/190712 [==============================] - 40s 210us/step - loss: 3.6192 - acc: 0.2975\n",
      "Epoch 42/100\n",
      "190712/190712 [==============================] - 40s 208us/step - loss: 3.6093 - acc: 0.2982\n",
      "Epoch 43/100\n",
      "190712/190712 [==============================] - 40s 210us/step - loss: 3.5997 - acc: 0.3001\n",
      "Epoch 44/100\n",
      "190712/190712 [==============================] - 40s 208us/step - loss: 3.5908 - acc: 0.3003\n",
      "Epoch 45/100\n",
      "190712/190712 [==============================] - 40s 208us/step - loss: 3.5817 - acc: 0.3030\n",
      "Epoch 46/100\n",
      "190712/190712 [==============================] - 40s 209us/step - loss: 3.5731 - acc: 0.3037\n",
      "Epoch 47/100\n",
      "190712/190712 [==============================] - 40s 209us/step - loss: 3.5646 - acc: 0.3040\n",
      "Epoch 48/100\n",
      "190712/190712 [==============================] - 40s 209us/step - loss: 3.5570 - acc: 0.3057\n",
      "Epoch 49/100\n",
      "190712/190712 [==============================] - 40s 209us/step - loss: 3.5496 - acc: 0.3074\n",
      "Epoch 50/100\n",
      "190712/190712 [==============================] - 40s 208us/step - loss: 3.5413 - acc: 0.3081\n",
      "Epoch 51/100\n",
      "190712/190712 [==============================] - 40s 207us/step - loss: 3.5354 - acc: 0.3086\n",
      "Epoch 52/100\n",
      "190712/190712 [==============================] - 40s 208us/step - loss: 3.5269 - acc: 0.3104\n",
      "Epoch 53/100\n",
      "190712/190712 [==============================] - 40s 208us/step - loss: 3.5215 - acc: 0.3118\n",
      "Epoch 54/100\n",
      "190712/190712 [==============================] - 40s 208us/step - loss: 3.5144 - acc: 0.3115\n",
      "Epoch 55/100\n",
      "190712/190712 [==============================] - 40s 209us/step - loss: 3.5078 - acc: 0.3126\n",
      "Epoch 56/100\n",
      "190712/190712 [==============================] - 40s 210us/step - loss: 3.5020 - acc: 0.3135\n",
      "Epoch 57/100\n",
      "190712/190712 [==============================] - 40s 210us/step - loss: 3.4948 - acc: 0.3142\n",
      "Epoch 58/100\n",
      "190712/190712 [==============================] - 40s 209us/step - loss: 3.4898 - acc: 0.3162\n",
      "Epoch 59/100\n",
      "190712/190712 [==============================] - 40s 210us/step - loss: 3.4843 - acc: 0.3164\n",
      "Epoch 60/100\n",
      "190712/190712 [==============================] - 40s 209us/step - loss: 3.4785 - acc: 0.3168\n",
      "Epoch 61/100\n",
      "190712/190712 [==============================] - 40s 209us/step - loss: 3.4742 - acc: 0.3177\n",
      "Epoch 62/100\n",
      "190712/190712 [==============================] - 40s 209us/step - loss: 3.4688 - acc: 0.3183\n",
      "Epoch 63/100\n",
      "190712/190712 [==============================] - 40s 209us/step - loss: 3.4632 - acc: 0.3195\n",
      "Epoch 64/100\n",
      "190712/190712 [==============================] - 40s 209us/step - loss: 3.4594 - acc: 0.3198\n",
      "Epoch 65/100\n",
      "190712/190712 [==============================] - 40s 208us/step - loss: 3.4532 - acc: 0.3205\n",
      "Epoch 66/100\n",
      "190712/190712 [==============================] - 40s 209us/step - loss: 3.4486 - acc: 0.3209\n",
      "Epoch 67/100\n",
      "190712/190712 [==============================] - 40s 209us/step - loss: 3.4447 - acc: 0.3212\n",
      "Epoch 68/100\n",
      "190712/190712 [==============================] - 40s 209us/step - loss: 3.4410 - acc: 0.3218\n",
      "Epoch 69/100\n",
      "190712/190712 [==============================] - 40s 208us/step - loss: 3.4362 - acc: 0.3225\n",
      "Epoch 70/100\n",
      "190712/190712 [==============================] - 39s 207us/step - loss: 3.4327 - acc: 0.3232\n",
      "Epoch 71/100\n",
      "190712/190712 [==============================] - 40s 208us/step - loss: 3.4277 - acc: 0.3231\n",
      "Epoch 72/100\n",
      "190712/190712 [==============================] - 40s 209us/step - loss: 3.4241 - acc: 0.3246\n",
      "Epoch 73/100\n",
      "190712/190712 [==============================] - 40s 208us/step - loss: 3.4209 - acc: 0.3241\n",
      "Epoch 74/100\n",
      "190712/190712 [==============================] - 40s 208us/step - loss: 3.4158 - acc: 0.3250\n",
      "Epoch 75/100\n",
      "190712/190712 [==============================] - 40s 209us/step - loss: 3.4127 - acc: 0.3258\n",
      "Epoch 76/100\n",
      "190712/190712 [==============================] - 40s 209us/step - loss: 3.4088 - acc: 0.3271\n",
      "Epoch 77/100\n",
      "190712/190712 [==============================] - 40s 208us/step - loss: 3.4060 - acc: 0.3267\n",
      "Epoch 78/100\n",
      "190712/190712 [==============================] - 40s 209us/step - loss: 3.4014 - acc: 0.3278\n",
      "Epoch 79/100\n",
      "190712/190712 [==============================] - 40s 209us/step - loss: 3.3987 - acc: 0.3277\n",
      "Epoch 80/100\n",
      "190712/190712 [==============================] - 40s 208us/step - loss: 3.3949 - acc: 0.3282\n",
      "Epoch 81/100\n",
      "190712/190712 [==============================] - 40s 209us/step - loss: 3.3924 - acc: 0.3293\n",
      "Epoch 82/100\n",
      "190712/190712 [==============================] - 40s 208us/step - loss: 3.3888 - acc: 0.3296\n",
      "Epoch 83/100\n",
      "190712/190712 [==============================] - 40s 208us/step - loss: 3.3859 - acc: 0.3307\n",
      "Epoch 84/100\n",
      "190712/190712 [==============================] - 40s 209us/step - loss: 3.3822 - acc: 0.3302\n",
      "Epoch 85/100\n",
      "190712/190712 [==============================] - 40s 210us/step - loss: 3.3794 - acc: 0.3316\n",
      "Epoch 86/100\n",
      "190712/190712 [==============================] - 40s 209us/step - loss: 3.3768 - acc: 0.3317\n",
      "Epoch 87/100\n",
      "190712/190712 [==============================] - 40s 208us/step - loss: 3.3740 - acc: 0.3310\n",
      "Epoch 88/100\n",
      "190712/190712 [==============================] - 40s 209us/step - loss: 3.3715 - acc: 0.3323\n",
      "Epoch 89/100\n",
      "190712/190712 [==============================] - 40s 209us/step - loss: 3.3681 - acc: 0.3333\n",
      "Epoch 90/100\n",
      "190712/190712 [==============================] - 40s 209us/step - loss: 3.3653 - acc: 0.3344\n",
      "Epoch 91/100\n",
      "190712/190712 [==============================] - 40s 209us/step - loss: 3.3619 - acc: 0.3337\n",
      "Epoch 92/100\n",
      "190712/190712 [==============================] - 40s 209us/step - loss: 3.3606 - acc: 0.3336\n",
      "Epoch 93/100\n",
      "190712/190712 [==============================] - 40s 208us/step - loss: 3.3577 - acc: 0.3343\n",
      "Epoch 94/100\n",
      "190712/190712 [==============================] - 40s 209us/step - loss: 3.3551 - acc: 0.3342\n",
      "Epoch 95/100\n",
      "190712/190712 [==============================] - 40s 209us/step - loss: 3.3524 - acc: 0.3347\n",
      "Epoch 96/100\n",
      "190712/190712 [==============================] - 40s 209us/step - loss: 3.3497 - acc: 0.3354\n",
      "Epoch 97/100\n",
      "190712/190712 [==============================] - 40s 209us/step - loss: 3.3487 - acc: 0.3354\n",
      "Epoch 98/100\n",
      "190712/190712 [==============================] - 40s 208us/step - loss: 3.3456 - acc: 0.3354\n",
      "Epoch 99/100\n",
      "190712/190712 [==============================] - 40s 207us/step - loss: 3.3430 - acc: 0.3365\n",
      "Epoch 100/100\n",
      "190712/190712 [==============================] - 40s 209us/step - loss: 3.3406 - acc: 0.3374\n"
     ]
    },
    {
     "data": {
      "text/plain": [
       "<keras.callbacks.History at 0x7fa1964bdbe0>"
      ]
     },
     "execution_count": 7,
     "metadata": {},
     "output_type": "execute_result"
    }
   ],
   "source": [
    "# Implementação de uma Rede Neural Recorrente para criar sequências de caracteres baseada na matriz de índices\n",
    "from keras.callbacks import LambdaCallback\n",
    "from keras.models import Sequential\n",
    "from keras.layers import Activation, Dense, Embedding, LSTM\n",
    "from keras.callbacks import EarlyStopping\n",
    "\n",
    "# Cria uma rede sequencial para passarmos os ativadores dos neurônios\n",
    "model = Sequential()\n",
    "\n",
    "# Transformação do vetor de índices em uma matriz densa\n",
    "model.add(Embedding(vocab_size, 10, input_length=max_length-1))\n",
    "\n",
    "# Camada LSTM (Long Short Term Memory)\n",
    "model.add(LSTM(50))\n",
    "\n",
    "# Adição de uma camada Softmax para a saída\n",
    "model.add(Dense(vocab_size, activation='softmax'))\n",
    "\n",
    "# Descrição do modelo\n",
    "print(model.summary())\n",
    "\n",
    "# Criação de uma chamada que verifica se houve melhora no modelo desde a última iteração\n",
    "early_stopping = EarlyStopping(monitor='loss', min_delta=0, patience=5, verbose=0, mode='auto')\n",
    "\n",
    "# Compilação do modelo com uma função de perda e um otimizador\n",
    "model.compile(loss='categorical_crossentropy', optimizer='adam', metrics=['accuracy'])\n",
    "\n",
    "# Treinamento do modelo em 20 iterações\n",
    "model.fit(X, y, epochs=100, verbose=1, callbacks=[early_stopping])"
   ]
  },
  {
   "cell_type": "code",
   "execution_count": 11,
   "metadata": {},
   "outputs": [
    {
     "data": {
      "image/png": "[encoded data removed]",
      "text/plain": [
       "<Figure size 1080x360 with 1 Axes>"
      ]
     },
     "metadata": {},
     "output_type": "display_data"
    }
   ],
   "source": [
    "# Plota o gráfico do histórico do modelo\n",
    "import matplotlib.pyplot as plt\n",
    "%matplotlib inline\n",
    "plt.rcParams['figure.figsize'] = [15, 5]\n",
    "\n",
    "history = model.history\n",
    "\n",
    "# Gráfico do histórico de treinamento\n",
    "plt.plot(history.history['acc'])\n",
    "plt.plot(history.history['loss'])\n",
    "plt.title('model accuracy')\n",
    "plt.ylabel('accuracy')\n",
    "plt.xlabel('epoch')\n",
    "plt.legend(['accuracy', 'loss'], loc='upper right')\n",
    "plt.show()"
   ]
  },
  {
   "cell_type": "code",
   "execution_count": 12,
   "metadata": {},
   "outputs": [
    {
     "name": "stdout",
     "output_type": "stream",
     "text": [
      "Model Saved!\n"
     ]
    }
   ],
   "source": [
    "# Salva o modelo em um binário\n",
    "import joblib\n",
    "\n",
    "joblib.dump(tokenizer, './model/tokenizer.bin')\n",
    "joblib.dump(max_length, './model/max_length.bin')\n",
    "joblib.dump(model, './model/sertanejoBot.bin')\n",
    "print(\"Model Saved!\")"
   ]
  }
 ],
 "metadata": {
  "kernelspec": {
   "display_name": "Python 3",
   "language": "python",
   "name": "python3"
  },
  "language_info": {
   "codemirror_mode": {
    "name": "ipython",
    "version": 3
   },
   "file_extension": ".py",
   "mimetype": "text/x-python",
   "name": "python",
   "nbconvert_exporter": "python",
   "pygments_lexer": "ipython3",
   "version": "3.7.1"
  }
 },
 "nbformat": 4,
 "nbformat_minor": 2
}
